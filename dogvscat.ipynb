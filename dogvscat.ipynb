{
 "cells": [
  {
   "cell_type": "code",
   "execution_count": 12,
   "id": "1e9e3e0d-5d3a-4c37-bbc8-2969ed5b86e2",
   "metadata": {},
   "outputs": [
    {
     "name": "stdout",
     "output_type": "stream",
     "text": [
      "Defaulting to user installation because normal site-packages is not writeable\n",
      "Requirement already satisfied: opencv-python in c:\\users\\sahub\\appdata\\roaming\\python\\python311\\site-packages (4.10.0.84)\n",
      "Requirement already satisfied: numpy>=1.21.2 in c:\\users\\sahub\\appdata\\roaming\\python\\python311\\site-packages (from opencv-python) (1.24.4)\n"
     ]
    }
   ],
   "source": [
    "!pip install opencv-python"
   ]
  },
  {
   "cell_type": "code",
   "execution_count": 20,
   "id": "67134609-02f8-4db0-b297-21279759dc09",
   "metadata": {},
   "outputs": [],
   "source": [
    "import os\n",
    "import cv2\n",
    "import random\n",
    "import numpy as np"
   ]
  },
  {
   "cell_type": "code",
   "execution_count": 14,
   "id": "8434a921-3d09-416f-b730-a17f8bff5672",
   "metadata": {},
   "outputs": [],
   "source": [
    "mydir=r\"C:\\Users\\sahub\\OneDrive\\Desktop\\Desktop\\Prtc\\dog_cats\""
   ]
  },
  {
   "cell_type": "code",
   "execution_count": 15,
   "id": "558fb32e-ac0c-451e-bf84-b24a12b46de4",
   "metadata": {},
   "outputs": [],
   "source": [
    "categories=['cats','dogs']"
   ]
  },
  {
   "cell_type": "code",
   "execution_count": 17,
   "id": "6fecc339-7f52-4ad2-9f9f-f831d3800c01",
   "metadata": {},
   "outputs": [],
   "source": [
    "data=[]\n",
    "for i in categories:\n",
    "    folder_path=os.path.join(mydir,i)\n",
    "    if i=='cats':\n",
    "        label=0\n",
    "    else:\n",
    "        label=1\n",
    "    for j in os.listdir(folder_path):\n",
    "        img_path=os.path.join(folder_path,j)\n",
    "        img=cv2.imread(img_path)\n",
    "        img=cv2.resize(img,(150,150))\n",
    "        data.append([img,label])"
   ]
  },
  {
   "cell_type": "code",
   "execution_count": 21,
   "id": "ce10a351-52a8-4caa-91de-76335d2d456d",
   "metadata": {},
   "outputs": [],
   "source": [
    "random.shuffle(data)"
   ]
  },
  {
   "cell_type": "code",
   "execution_count": 22,
   "id": "0ac90b8c-ac26-41f9-9e1d-0f6739c436da",
   "metadata": {},
   "outputs": [],
   "source": [
    "X=[]\n",
    "y=[]\n",
    "for i in data:\n",
    "    X.append(i[0])\n",
    "    y.append(i[1])"
   ]
  },
  {
   "cell_type": "code",
   "execution_count": 25,
   "id": "daa4099c-c6fe-4711-a852-a523002f3304",
   "metadata": {},
   "outputs": [
    {
     "data": {
      "text/plain": [
       "((2128, 150, 150, 3), (2128,))"
      ]
     },
     "execution_count": 25,
     "metadata": {},
     "output_type": "execute_result"
    }
   ],
   "source": [
    "y=np.array(y)\n",
    "X=np.array(X)\n",
    "\n",
    "X.shape,y.shape"
   ]
  },
  {
   "cell_type": "code",
   "execution_count": null,
   "id": "0b927fcf-d223-4d68-bca4-65e2087df04a",
   "metadata": {},
   "outputs": [],
   "source": [
    "X=X/255"
   ]
  },
  {
   "cell_type": "code",
   "execution_count": null,
   "id": "71458ea9-6bb9-4cbe-93cb-ed2f61cfb811",
   "metadata": {},
   "outputs": [],
   "source": [
    "from tensorflow.keras import Sequential\n",
    "from tensorflow.keras.layers import Dense, Conv2D, MaxPooling2D, Flatten , Activation, Dropout"
   ]
  },
  {
   "cell_type": "code",
   "execution_count": null,
   "id": "032e6c59-7487-4185-ae67-f730c980aa32",
   "metadata": {},
   "outputs": [],
   "source": []
  },
  {
   "cell_type": "code",
   "execution_count": null,
   "id": "be09ebbd-a773-4acd-91f5-80f55930190b",
   "metadata": {},
   "outputs": [],
   "source": []
  },
  {
   "cell_type": "code",
   "execution_count": null,
   "id": "72136531-efdf-4447-a0d9-6b1fb09eb351",
   "metadata": {},
   "outputs": [],
   "source": []
  },
  {
   "cell_type": "code",
   "execution_count": null,
   "id": "20bdb40f-3f27-419b-84b8-37745eb99ba8",
   "metadata": {},
   "outputs": [],
   "source": []
  },
  {
   "cell_type": "code",
   "execution_count": null,
   "id": "9ffb93d1-8cb3-4db9-9a05-1cb067e95acc",
   "metadata": {},
   "outputs": [],
   "source": []
  },
  {
   "cell_type": "code",
   "execution_count": null,
   "id": "d621fcff-02ec-460d-b646-361bd791d68b",
   "metadata": {},
   "outputs": [],
   "source": []
  },
  {
   "cell_type": "code",
   "execution_count": null,
   "id": "bd6244b4-1f23-4ece-94fe-81d98ba65850",
   "metadata": {},
   "outputs": [],
   "source": []
  },
  {
   "cell_type": "code",
   "execution_count": null,
   "id": "ba1d7583-bca1-4566-9236-f86584fbc0e0",
   "metadata": {},
   "outputs": [],
   "source": []
  },
  {
   "cell_type": "code",
   "execution_count": null,
   "id": "1fe87486-cc68-4baa-8caa-5192008cc6b6",
   "metadata": {},
   "outputs": [],
   "source": []
  }
 ],
 "metadata": {
  "kernelspec": {
   "display_name": "Python 3 (ipykernel)",
   "language": "python",
   "name": "python3"
  },
  "language_info": {
   "codemirror_mode": {
    "name": "ipython",
    "version": 3
   },
   "file_extension": ".py",
   "mimetype": "text/x-python",
   "name": "python",
   "nbconvert_exporter": "python",
   "pygments_lexer": "ipython3",
   "version": "3.11.7"
  }
 },
 "nbformat": 4,
 "nbformat_minor": 5
}
